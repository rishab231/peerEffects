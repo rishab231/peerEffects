{
 "cells": [
  {
   "cell_type": "markdown",
   "metadata": {},
   "source": [
    "## Data collection toolkit for monitoring \"peer effects\""
   ]
  },
  {
   "cell_type": "markdown",
   "metadata": {},
   "source": [
    "This cell sets up the notebook to import numpy, datascience, seaborn, pandas, matplotlib etc."
   ]
  },
  {
   "cell_type": "code",
   "execution_count": 71,
   "metadata": {},
   "outputs": [],
   "source": [
    "# Run this cell to set up the notebook.\n",
    "\n",
    "# These lines import the Numpy, Datascience, pandas modules.\n",
    "import numpy as np\n",
    "import pandas as pd\n",
    "import seaborn as sns\n",
    "from datascience import *\n",
    "import datetime as dt\n",
    "import matplotlib\n",
    "import matplotlib.pyplot as plt\n",
    "\n",
    "# Importing plotting libraries and styles\n",
    "%matplotlib inline\n",
    "plt.style.use('fivethirtyeight')\n",
    "\n",
    "# For Pandas to ignore FutureWarning displays\n",
    "import warnings\n",
    "warnings.simplefilter('ignore', FutureWarning)"
   ]
  },
  {
   "cell_type": "markdown",
   "metadata": {},
   "source": [
    "Defining the class `Person`"
   ]
  },
  {
   "cell_type": "code",
   "execution_count": 72,
   "metadata": {},
   "outputs": [],
   "source": [
    "class Person:\n",
    "    def __init__(self, index, startTime):\n",
    "        self.index = index\n",
    "        self.startTime = startTime\n",
    "        self.breakStart = []\n",
    "        self.breakEnd = []\n",
    "        self.endTime = None\n",
    "    \n",
    "    def addBreak(self, time):\n",
    "        self.breakStart.append(time)\n",
    "        return \"Break started for person \" + str(self.index) + \" at \" + str(time)\n",
    "    \n",
    "    def endBreak(self, time):\n",
    "        if (len(self.breakStart)-1)!=len(self.breakEnd):\n",
    "            return \"Please start a break to stop it.\"\n",
    "        else:\n",
    "            self.breakEnd.append(time)\n",
    "            return \"Break ended for person \" + str(self.index) + \" at \" + str(time)\n",
    "        \n",
    "    def endSession(self, time):\n",
    "        self.endTime = time\n",
    "        return \"Person \" + str(self.index) + \" left at \" + str(time)\n",
    "        \n",
    "    def numBreaks(self):\n",
    "        return len(self.breakEnd)"
   ]
  },
  {
   "cell_type": "markdown",
   "metadata": {},
   "source": [
    "Defining the class `Table`"
   ]
  },
  {
   "cell_type": "code",
   "execution_count": 73,
   "metadata": {},
   "outputs": [],
   "source": [
    "class Table:\n",
    "    listTables = []\n",
    "    \n",
    "    def __init__(self, name, libraryName = '', people = 0):\n",
    "        self.name = name\n",
    "        self.startTime = dt.datetime.now()\n",
    "        self.library = libraryName\n",
    "        self.persons = []\n",
    "        for i in range(1, people+1):\n",
    "            self.addPerson()\n",
    "        Table.listTables.append(self)\n",
    "        print(\"Table with name \" + str(name) + \" and \" + str(people) + \" people\" + \" created!\")\n",
    "        print(\"Time: \" + str(self.startTime))\n",
    "        \n",
    "    def addPerson(self):\n",
    "        number = len(self.persons)+1\n",
    "        self.persons.append(Person(number, dt.datetime.now()))\n",
    "        print(\"Person number \" + str(number) + \" added.\")\n",
    "        return\n",
    "    \n",
    "    def addBreak(self, name):\n",
    "        if name > len(self.persons):\n",
    "            return \"Person \" + str(name) + \" not in list of people.\"\n",
    "        person = self.persons[name-1]\n",
    "        time = dt.datetime.now()\n",
    "        print(person.addBreak(time))\n",
    "        \n",
    "    def endBreak(self, name):\n",
    "        if name > len(self.persons):\n",
    "            return \"Person \" + str(name) + \" not in list of people.\"\n",
    "        time = dt.datetime.now()\n",
    "        person = self.persons[name-1]\n",
    "        print(person.endBreak(time))\n",
    "        \n",
    "    def removePerson(self, name):\n",
    "        exists = False\n",
    "        for person in self.persons:\n",
    "            if (person.index == name) and (person.endTime == None):\n",
    "                exists = True\n",
    "                break\n",
    "        if (not exists):\n",
    "            print(\"This person doesn't exist and so, can't be removed\")\n",
    "            return\n",
    "        else:\n",
    "            time = dt.datetime.now()\n",
    "            print(person.endSession(time))\n",
    "            return\n",
    "    \n",
    "    def getNumBreaks(self, name):\n",
    "        person = self.persons[name-1]\n",
    "        print(\"Person \" + str(name) + \" has taken \" + str(person.numBreaks()) + \" breaks.\")\n",
    "        return"
   ]
  },
  {
   "cell_type": "markdown",
   "metadata": {},
   "source": [
    "Creating the `convertToRow` function for appending to Dataframe"
   ]
  },
  {
   "cell_type": "code",
   "execution_count": 88,
   "metadata": {},
   "outputs": [],
   "source": [
    "def convertToRow(person, table):\n",
    "    row = [person.index, table.name, table.library, person.startTime, \\\n",
    "           person.endTime, person.numBreaks(), person.breakStart, person.breakEnd]\n",
    "    neighbors = [person_p.index for person_p in table.persons if person_p.index!=person.index]\n",
    "    row = row + [neighbors]\n",
    "    return row"
   ]
  },
  {
   "cell_type": "markdown",
   "metadata": {},
   "source": [
    "Creating a wrapper class `ListTables`"
   ]
  },
  {
   "cell_type": "markdown",
   "metadata": {},
   "source": [
    "**Features:**\n",
    "* Person departure\n",
    "* Person arrival\n",
    "* Person break begins\n",
    "* Person checking phone"
   ]
  },
  {
   "cell_type": "markdown",
   "metadata": {},
   "source": [
    "### Demo"
   ]
  },
  {
   "cell_type": "code",
   "execution_count": 74,
   "metadata": {},
   "outputs": [
    {
     "name": "stdout",
     "output_type": "stream",
     "text": [
      "Person number 1 added.\n",
      "Person number 2 added.\n",
      "Person number 3 added.\n",
      "Person number 4 added.\n",
      "Table with name A and 4 people created!\n",
      "Time: 2019-02-20 00:45:27.294338\n",
      "Person number 5 added.\n"
     ]
    }
   ],
   "source": [
    "# Creates a new table named 1 in Moffit Library\n",
    "A = Table(\"A\", \"Moffit\", 4)\n",
    "\n",
    "# Adds person 5 to table 1\n",
    "A.addPerson()"
   ]
  },
  {
   "cell_type": "code",
   "execution_count": 75,
   "metadata": {},
   "outputs": [
    {
     "name": "stdout",
     "output_type": "stream",
     "text": [
      "Break started for person 5 at 2019-02-20 00:45:27.620293\n"
     ]
    }
   ],
   "source": [
    "# Person 5 on Table A leaves for a break\n",
    "A.addBreak(5)"
   ]
  },
  {
   "cell_type": "code",
   "execution_count": 76,
   "metadata": {},
   "outputs": [
    {
     "name": "stdout",
     "output_type": "stream",
     "text": [
      "Person number 1 added.\n",
      "Person number 2 added.\n",
      "Person number 3 added.\n",
      "Table with name B and 3 people created!\n",
      "Time: 2019-02-20 00:45:28.062815\n",
      "Person number 1 added.\n",
      "Table with name C and 1 people created!\n",
      "Time: 2019-02-20 00:45:28.063145\n",
      "Break started for person 2 at 2019-02-20 00:45:28.063249\n",
      "Break started for person 3 at 2019-02-20 00:45:28.063306\n"
     ]
    }
   ],
   "source": [
    "B = Table(\"B\", \"Stacks\", 3)\n",
    "C = Table(\"C\", \"Moffit\", 1)\n",
    "\n",
    "# Person 2 and 3 on Table B leave together for a break\n",
    "B.addBreak(2)\n",
    "B.addBreak(3)"
   ]
  },
  {
   "cell_type": "code",
   "execution_count": 77,
   "metadata": {},
   "outputs": [
    {
     "name": "stdout",
     "output_type": "stream",
     "text": [
      "Break ended for person 5 at 2019-02-20 00:45:28.514386\n",
      "Break ended for person 2 at 2019-02-20 00:45:28.514486\n",
      "Break ended for person 3 at 2019-02-20 00:45:28.514547\n"
     ]
    }
   ],
   "source": [
    "# Person 5 on Table A comes back\n",
    "A.endBreak(5)\n",
    "\n",
    "# Person 2 and 3 on Table B come back\n",
    "B.endBreak(2)\n",
    "B.endBreak(3)"
   ]
  },
  {
   "cell_type": "code",
   "execution_count": 78,
   "metadata": {},
   "outputs": [
    {
     "name": "stdout",
     "output_type": "stream",
     "text": [
      "Break started for person 5 at 2019-02-20 00:45:28.978167\n",
      "Break ended for person 5 at 2019-02-20 00:45:28.978269\n"
     ]
    }
   ],
   "source": [
    "# A5 leaves for break and comes back again\n",
    "A.addBreak(5)\n",
    "A.endBreak(5)"
   ]
  },
  {
   "cell_type": "code",
   "execution_count": 79,
   "metadata": {},
   "outputs": [
    {
     "name": "stdout",
     "output_type": "stream",
     "text": [
      "Person 5 has taken 2 breaks.\n"
     ]
    }
   ],
   "source": [
    "# Getting number of breaks taken by A5\n",
    "A.getNumBreaks(5)"
   ]
  },
  {
   "cell_type": "code",
   "execution_count": 80,
   "metadata": {},
   "outputs": [
    {
     "name": "stdout",
     "output_type": "stream",
     "text": [
      "Person 5 left at 2019-02-20 00:45:29.706721\n"
     ]
    }
   ],
   "source": [
    "A.removePerson(5)"
   ]
  },
  {
   "cell_type": "markdown",
   "metadata": {},
   "source": [
    "**Format:** Person, Table, Library, Arrival Time, Departure Time, Num Breaks, Break Start Times (list), Break End Times (list), Neighbours, Known"
   ]
  },
  {
   "cell_type": "markdown",
   "metadata": {},
   "source": [
    "### Important (Read me)\n",
    "1. Add the names of the tables that you want to add to the **database file** to the **list**\n",
    "2. Run the cell below"
   ]
  },
  {
   "cell_type": "code",
   "execution_count": 90,
   "metadata": {},
   "outputs": [],
   "source": [
    "# ADD the names of the required tables to this list,\n",
    "# For example, required_tables = [A, B]\n",
    "\n",
    "required_tables = [A, B, C]"
   ]
  },
  {
   "cell_type": "code",
   "execution_count": 94,
   "metadata": {},
   "outputs": [],
   "source": [
    "# RUN THIS CELL AT THE END, then close this tab!\n",
    "\n",
    "# This automatically adds data that we've input into the libData.csv dataframe\n",
    "df = pd.read_csv('libData.csv')\n",
    "for table in required_tables:\n",
    "    for person in table.persons:\n",
    "        df = df.append(pd.DataFrame([convertToRow(person, table)],columns=df.columns))\n",
    "df.to_csv('libData.csv', index=False)"
   ]
  },
  {
   "cell_type": "code",
   "execution_count": null,
   "metadata": {},
   "outputs": [],
   "source": []
  }
 ],
 "metadata": {
  "kernelspec": {
   "display_name": "Python 3",
   "language": "python",
   "name": "python3"
  },
  "language_info": {
   "codemirror_mode": {
    "name": "ipython",
    "version": 3
   },
   "file_extension": ".py",
   "mimetype": "text/x-python",
   "name": "python",
   "nbconvert_exporter": "python",
   "pygments_lexer": "ipython3",
   "version": "3.6.4"
  }
 },
 "nbformat": 4,
 "nbformat_minor": 2
}
