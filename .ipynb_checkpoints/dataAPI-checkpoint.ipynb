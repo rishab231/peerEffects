{
 "cells": [
  {
   "cell_type": "markdown",
   "metadata": {},
   "source": [
    "## Data collection toolkit for monitoring \"peer effects\""
   ]
  },
  {
   "cell_type": "markdown",
   "metadata": {},
   "source": [
    "This cell sets up the notebook to import numpy, datetime, seaborn, pandas, matplotlib etc."
   ]
  },
  {
   "cell_type": "code",
   "execution_count": 1,
   "metadata": {},
   "outputs": [],
   "source": [
    "# Run this cell to set up the notebook.\n",
    "\n",
    "# These lines import the Numpy, Datascience, pandas modules.\n",
    "import numpy as np\n",
    "import pandas as pd\n",
    "import seaborn as sns\n",
    "import random\n",
    "import datetime as dt\n",
    "import matplotlib\n",
    "import matplotlib.pyplot as plt\n",
    "\n",
    "# Importing plotting libraries and styles\n",
    "%matplotlib inline\n",
    "plt.style.use('fivethirtyeight')\n",
    "\n",
    "# For Pandas to ignore FutureWarning displays\n",
    "import warnings\n",
    "warnings.simplefilter('ignore', FutureWarning)"
   ]
  },
  {
   "cell_type": "markdown",
   "metadata": {},
   "source": [
    "Defining the class `Person`"
   ]
  },
  {
   "cell_type": "code",
   "execution_count": 2,
   "metadata": {},
   "outputs": [],
   "source": [
    "class Person:\n",
    "    def __init__(self, identity, index, startTime, neighbors, fromStart):\n",
    "        self.identity = identity\n",
    "        self.index = index\n",
    "        self.startTime = startTime\n",
    "        self.breakStart = []\n",
    "        self.breakEnd = []\n",
    "        self.fromStart = int(fromStart)\n",
    "        self.endTime = None\n",
    "        self.tillEnd = 0\n",
    "        self.neighbors = neighbors\n",
    "        self.known = []\n",
    "    \n",
    "    def addBreak(self, time):\n",
    "        self.breakStart.append(time)\n",
    "        return \"Break started for person \" + str(self.index) + \" at \" + str(time)\n",
    "    \n",
    "    def endBreak(self, time):\n",
    "        if (len(self.breakStart)-1)!=len(self.breakEnd):\n",
    "            return \"Please start a break to stop it.\"\n",
    "        else:\n",
    "            self.breakEnd.append(time)\n",
    "            return \"Break ended for person \" + str(self.index) + \" at \" + str(time)\n",
    "        \n",
    "    def endSession(self, time):\n",
    "        self.endTime = time\n",
    "        return \"Person \" + str(self.index) + \" left at \" + str(time)\n",
    "        \n",
    "    def numBreaks(self):\n",
    "        return len(self.breakEnd)\n",
    "    \n",
    "    def getNeighbors(self):\n",
    "        return self.neighbors\n",
    "    \n",
    "    def addNeighbor(self, number, identity):\n",
    "        self.neighbors.append((number, identity))\n",
    "        \n",
    "    def setTillEnd(self, time):\n",
    "        self.endTime = time\n",
    "        self.tillEnd = 1\n",
    "    \n",
    "    def addKnown(self, lst):\n",
    "        for i in lst:\n",
    "            print(self.index, \"knows\", i[0])\n",
    "        self.known.extend(lst)"
   ]
  },
  {
   "cell_type": "markdown",
   "metadata": {},
   "source": [
    "Defining the class `Table`"
   ]
  },
  {
   "cell_type": "code",
   "execution_count": 3,
   "metadata": {},
   "outputs": [],
   "source": [
    "class Table:\n",
    "    listTables = dict()\n",
    "    usedID = pd.read_csv('usedID.csv')\n",
    "    \n",
    "    def __init__(self, name, libraryName = ''):\n",
    "        if (not isinstance(name, str)):\n",
    "            print(\"ERROR: Table name should be a string\")\n",
    "            return\n",
    "        if (not isinstance(libraryName, str)):\n",
    "            print(\"ERROR: Table name should be a string\")\n",
    "            return\n",
    "        self.name = name\n",
    "        self.startTime = dt.datetime.now()\n",
    "        self.library = libraryName\n",
    "        \n",
    "        # Dictionary of current active persons on Table (Number -> Person Object)\n",
    "        self.currentPersons = dict()\n",
    "        \n",
    "        # List of Person Objects which have ever sat at Table\n",
    "        self.allPersons = []\n",
    "        \n",
    "        Table.listTables[name] = self\n",
    "        print(\"Table with name \" + str(name) + \" created at time: \" + str(self.startTime))\n",
    "        \n",
    "    def addPerson(self, number, fromTheStart = False):\n",
    "        if (not isinstance(number, int)):\n",
    "            print(\"ERROR: Please give a number as person index\")\n",
    "            return\n",
    "        if (not isinstance(fromTheStart, bool)):\n",
    "            print(\"ERROR: Third argument should be True/False (person sitting from the start or not)\")\n",
    "            return\n",
    "        if number in self.currentPersons:\n",
    "            print(\"ERROR: Person already exists on Table: \" + self.name)\n",
    "            return\n",
    "        \n",
    "        iden = random.randint(0,10000)\n",
    "        while iden in set(self.usedID):\n",
    "            iden = random.randint(0,10000)\n",
    "        \n",
    "        # Neighbors: A list of numbers\n",
    "        neighbors = [(key, self.currentPersons[key].identity) for key in self.currentPersons]\n",
    "        \n",
    "        # Adding current number as a neighbor to already existing neighbors\n",
    "        for aPerson in self.currentPersons:\n",
    "            self.currentPersons[aPerson].addNeighbor(number, iden)\n",
    "            \n",
    "        # Creating Person object for this person\n",
    "        newPerson = Person(iden, number, dt.datetime.now(), neighbors, int(fromTheStart))\n",
    "        self.usedID.loc[len(self.usedID)] = [iden]\n",
    "        self.currentPersons[number] = newPerson\n",
    "        self.allPersons.append(newPerson)\n",
    "        \n",
    "        print(\"Person number \" + str(number) + \" added to Table \" + str(self.name))\n",
    "        return\n",
    "    \n",
    "    def addBreak(self, number):\n",
    "        if (not isinstance(number, int)):\n",
    "            print(\"ERROR: Please give a number as person index\")\n",
    "            return\n",
    "        if number not in self.currentPersons:\n",
    "            print(\"ERROR: Person \" + str(number) + \" not in list of active people on Table \" + self.getName())\n",
    "            return\n",
    "        person = self.currentPersons[number]\n",
    "        time = dt.datetime.now()\n",
    "        print(person.addBreak(time))\n",
    "        \n",
    "    def getName(self):\n",
    "        return self.name\n",
    "        \n",
    "    def endBreak(self, number):\n",
    "        if (not isinstance(number, int)):\n",
    "            print(\"ERROR: Please give a number as person index\")\n",
    "            return\n",
    "        if number not in self.currentPersons:\n",
    "            print(\"ERROR: Person \" + str(number) + \" not in list of people.\")\n",
    "            return\n",
    "        time = dt.datetime.now()\n",
    "        person = self.currentPersons[number]\n",
    "        print(person.endBreak(time))\n",
    "        \n",
    "    def removePerson(self, number):\n",
    "        if (not isinstance(number, int)):\n",
    "            print(\"ERROR: Please give a number as person index\")\n",
    "            return\n",
    "        if number not in self.currentPersons:\n",
    "            print(\"This person doesn't exist and so, can't be removed\")\n",
    "            return\n",
    "        else:\n",
    "            person = self.currentPersons.pop(number)\n",
    "            time = dt.datetime.now()\n",
    "            print(person.endSession(time))\n",
    "            return\n",
    "    \n",
    "    def getNumBreaks(self, number):\n",
    "        if (not isinstance(number, int)):\n",
    "            print(\"ERROR: Please give a number as person index\")\n",
    "            return\n",
    "        if number not in self.currentPersons:\n",
    "            print(\"ERROR: Person not active on Table\")\n",
    "            return\n",
    "        person = self.currentPersons[number]\n",
    "        print(\"Person \" + str(number) + \" has taken \" + str(person.numBreaks()) + \" breaks.\")\n",
    "        return\n",
    "    \n",
    "    def getCurrentPersons(self):\n",
    "        return self.currentPersons\n",
    "    \n",
    "    def known(self, person, lst):\n",
    "        # lst is a list of numbers in the currentPersons, we should get their ID as well\n",
    "        # eg. B.known(1, [2,5]) => Known for 1 should be [(2, ID(2)), (5, ID(5))]\n",
    "        \n",
    "        personObj = self.currentPersons[person]\n",
    "        personObj.addKnown([(i, self.currentPersons[i].identity) for i in lst])\n",
    "        for otherPerson in lst:\n",
    "            otherPersonObj = self.currentPersons[otherPerson]\n",
    "            otherPersonObj.addKnown([(person, personObj.identity)])"
   ]
  },
  {
   "cell_type": "markdown",
   "metadata": {},
   "source": [
    "Creating the `convertToRow` function for appending to Dataframe"
   ]
  },
  {
   "cell_type": "code",
   "execution_count": 4,
   "metadata": {},
   "outputs": [],
   "source": [
    "def convertToRow(person, table):\n",
    "    row = [person.identity, person.index, table.name, table.library, person.startTime, \\\n",
    "           person.endTime, person.numBreaks(), person.breakStart, person.breakEnd, person.fromStart, person.tillEnd, person.getNeighbors(), person.known, yourName, yourTable, str(yourSeat)]\n",
    "    return row"
   ]
  },
  {
   "cell_type": "markdown",
   "metadata": {},
   "source": [
    "The function `showTables` shows all the active Tables and active Seats on that table"
   ]
  },
  {
   "cell_type": "code",
   "execution_count": 5,
   "metadata": {},
   "outputs": [],
   "source": [
    "def showTables():\n",
    "    for table in Table.listTables.values():\n",
    "        seatsTaken = table.getCurrentPersons().keys()\n",
    "        print(\"Table Name: \" + table.getName() + \", \" + \"Current seats taken: \" + \" \".join(str(e) for e in seatsTaken))"
   ]
  },
  {
   "cell_type": "markdown",
   "metadata": {},
   "source": [
    "Run the function `quitSession` when you (the **Data Collector** want to leave)"
   ]
  },
  {
   "cell_type": "code",
   "execution_count": 6,
   "metadata": {},
   "outputs": [],
   "source": [
    "def quitSession():\n",
    "    time = dt.datetime.now()\n",
    "    for table in Table.listTables.values():\n",
    "        for person in table.currentPersons.values():\n",
    "            person.setTillEnd(time)\n",
    "    print(\"You left at\", time)"
   ]
  },
  {
   "cell_type": "markdown",
   "metadata": {},
   "source": [
    "## Extended Demo"
   ]
  },
  {
   "cell_type": "code",
   "execution_count": 7,
   "metadata": {},
   "outputs": [
    {
     "name": "stdout",
     "output_type": "stream",
     "text": [
      "Table with name A created at time: 2019-03-23 17:46:06.776865\n"
     ]
    }
   ],
   "source": [
    "# The code below creates a new table named A in Moffit Library\n",
    "A = Table(\"A\", \"Moffit\")"
   ]
  },
  {
   "cell_type": "code",
   "execution_count": 8,
   "metadata": {},
   "outputs": [
    {
     "name": "stdout",
     "output_type": "stream",
     "text": [
      "Person number 2 added to Table A\n",
      "Person number 5 added to Table A\n",
      "ERROR: Person already exists on Table: A\n"
     ]
    }
   ],
   "source": [
    "# Adds person at Seats 2,5 to Table A\n",
    "\n",
    "A.addPerson(2)\n",
    "\n",
    "A.addPerson(5)\n",
    "\n",
    "# Trying to add Person 2 again\n",
    "A.addPerson(2)"
   ]
  },
  {
   "cell_type": "code",
   "execution_count": 9,
   "metadata": {},
   "outputs": [
    {
     "name": "stdout",
     "output_type": "stream",
     "text": [
      "Break started for person 5 at 2019-03-23 17:46:07.287813\n"
     ]
    }
   ],
   "source": [
    "# Person 5 on Table A leaves for a break\n",
    "\n",
    "A.addBreak(5)"
   ]
  },
  {
   "cell_type": "code",
   "execution_count": 10,
   "metadata": {},
   "outputs": [
    {
     "name": "stdout",
     "output_type": "stream",
     "text": [
      "Table with name B created at time: 2019-03-23 17:46:07.731391\n"
     ]
    }
   ],
   "source": [
    "# Similarly, creating Table B at Main Stacks\n",
    "\n",
    "B = Table(\"B\", \"Stacks\")"
   ]
  },
  {
   "cell_type": "markdown",
   "metadata": {},
   "source": [
    "Adding person at Seat 1, Table B, but he was already there from the start. **Note:** *Adding True as the second argument implies that the person was there before you came in."
   ]
  },
  {
   "cell_type": "code",
   "execution_count": 11,
   "metadata": {
    "scrolled": true
   },
   "outputs": [
    {
     "name": "stdout",
     "output_type": "stream",
     "text": [
      "Person number 1 added to Table B\n"
     ]
    }
   ],
   "source": [
    "#Adding person at Seat 1, Table B, but he was already there from the start.\n",
    "\n",
    "B.addPerson(1, True)"
   ]
  },
  {
   "cell_type": "code",
   "execution_count": 12,
   "metadata": {},
   "outputs": [
    {
     "name": "stdout",
     "output_type": "stream",
     "text": [
      "Person number 3 added to Table B\n"
     ]
    }
   ],
   "source": [
    "# Another person comes in and sits down at Seat 3, Table B.\n",
    "\n",
    "B.addPerson(3)"
   ]
  },
  {
   "cell_type": "code",
   "execution_count": 13,
   "metadata": {},
   "outputs": [
    {
     "name": "stdout",
     "output_type": "stream",
     "text": [
      "Break started for person 1 at 2019-03-23 17:46:09.198503\n",
      "Break started for person 3 at 2019-03-23 17:46:09.198610\n"
     ]
    }
   ],
   "source": [
    "# Person 1 and 3 on Table B leave together for a break\n",
    "\n",
    "B.addBreak(1)\n",
    "\n",
    "B.addBreak(3)"
   ]
  },
  {
   "cell_type": "code",
   "execution_count": 14,
   "metadata": {},
   "outputs": [
    {
     "name": "stdout",
     "output_type": "stream",
     "text": [
      "Please start a break to stop it.\n",
      "Break ended for person 5 at 2019-03-23 17:46:09.540516\n"
     ]
    }
   ],
   "source": [
    "# 2 never left for a break\n",
    "A.endBreak(2)\n",
    "\n",
    "# But 5 did, so we can end his break.\n",
    "A.endBreak(5)"
   ]
  },
  {
   "cell_type": "code",
   "execution_count": 15,
   "metadata": {},
   "outputs": [
    {
     "name": "stdout",
     "output_type": "stream",
     "text": [
      "Person 2 left at 2019-03-23 17:46:09.902019\n"
     ]
    }
   ],
   "source": [
    "# Person 2 on Table A departs for the day\n",
    "\n",
    "A.removePerson(2)"
   ]
  },
  {
   "cell_type": "code",
   "execution_count": 16,
   "metadata": {},
   "outputs": [
    {
     "name": "stdout",
     "output_type": "stream",
     "text": [
      "This person doesn't exist and so, can't be removed\n"
     ]
    }
   ],
   "source": [
    "# Trying to remove Person 2 again.\n",
    "A.removePerson(2)"
   ]
  },
  {
   "cell_type": "code",
   "execution_count": 17,
   "metadata": {},
   "outputs": [
    {
     "name": "stdout",
     "output_type": "stream",
     "text": [
      "Table Name: A, Current seats taken: 5\n",
      "Table Name: B, Current seats taken: 1 3\n"
     ]
    }
   ],
   "source": [
    "# Showing all the Seats that are currently active\n",
    "\n",
    "showTables()"
   ]
  },
  {
   "cell_type": "code",
   "execution_count": 18,
   "metadata": {},
   "outputs": [
    {
     "name": "stdout",
     "output_type": "stream",
     "text": [
      "1 knows 3\n",
      "3 knows 1\n"
     ]
    }
   ],
   "source": [
    "# Let us suppose that Person 1 on B knows Person 3 on B\n",
    "\n",
    "B.addPerson(6)\n",
    "B.known(1, [3, 6])"
   ]
  },
  {
   "cell_type": "code",
   "execution_count": 19,
   "metadata": {},
   "outputs": [
    {
     "name": "stdout",
     "output_type": "stream",
     "text": [
      "Break ended for person 1 at 2019-03-23 17:46:16.307609\n",
      "Break ended for person 3 at 2019-03-23 17:46:16.307693\n",
      "Break started for person 5 at 2019-03-23 17:46:16.307743\n",
      "Person 1 left at 2019-03-23 17:46:16.307793\n"
     ]
    }
   ],
   "source": [
    "# Removing Person 1 from Table B\n",
    "B.endBreak(1)\n",
    "B.endBreak(3)\n",
    "A.addBreak(5)\n",
    "\n",
    "B.removePerson(1)"
   ]
  },
  {
   "cell_type": "code",
   "execution_count": 20,
   "metadata": {},
   "outputs": [
    {
     "name": "stdout",
     "output_type": "stream",
     "text": [
      "Break started for person 3 at 2019-03-23 17:46:17.449358\n",
      "Table Name: A, Current seats taken: 5\n",
      "Table Name: B, Current seats taken: 3\n"
     ]
    }
   ],
   "source": [
    "# Add break for Person 3\n",
    "B.addBreak(3)\n",
    "\n",
    "# Again, showing active seats\n",
    "showTables()"
   ]
  },
  {
   "cell_type": "code",
   "execution_count": 21,
   "metadata": {},
   "outputs": [
    {
     "name": "stdout",
     "output_type": "stream",
     "text": [
      "Break ended for person 3 at 2019-03-23 17:46:17.707608\n",
      "You left at 2019-03-23 17:46:17.707703\n"
     ]
    }
   ],
   "source": [
    "# Ending break for Person 3\n",
    "B.endBreak(3)\n",
    "\n",
    "# Suppose I want to leave the library now, I simply run\n",
    "quitSession()"
   ]
  },
  {
   "cell_type": "markdown",
   "metadata": {},
   "source": [
    "## Start writing your code below to add Tables"
   ]
  },
  {
   "cell_type": "code",
   "execution_count": 22,
   "metadata": {},
   "outputs": [],
   "source": [
    "# Fill in this cell with your information, for example:\n",
    "yourName = \"Max\"\n",
    "yourTable = \"B\"\n",
    "yourSeat = 2"
   ]
  },
  {
   "cell_type": "code",
   "execution_count": null,
   "metadata": {},
   "outputs": [],
   "source": []
  },
  {
   "cell_type": "markdown",
   "metadata": {},
   "source": [
    "### Important (Read me)\n",
    "1. Run the cell below to update the libData.csv file!"
   ]
  },
  {
   "cell_type": "markdown",
   "metadata": {},
   "source": [
    "**Format:** Person, Table, Library, Arrival Time, Departure Time, Num Breaks, Break Start Times (list), Break End Times (list), fromStart, tillEnd, Neighbours"
   ]
  },
  {
   "cell_type": "code",
   "execution_count": 23,
   "metadata": {},
   "outputs": [],
   "source": [
    "# RUN THIS CELL AT THE END, then close this tab!\n",
    "\n",
    "# This automatically adds data that we've input into the libData.csv dataframe\n",
    "df = pd.read_csv('libData.csv')\n",
    "for table in Table.listTables.values():\n",
    "    for person in table.allPersons:\n",
    "        df = df.append(pd.DataFrame([convertToRow(person, table)],columns=df.columns))\n",
    "Table.usedID.to_csv('usedID.csv', index=False)\n",
    "df.to_csv('libData.csv', index=False)"
   ]
  }
 ],
 "metadata": {
  "kernelspec": {
   "display_name": "Python 3",
   "language": "python",
   "name": "python3"
  },
  "language_info": {
   "codemirror_mode": {
    "name": "ipython",
    "version": 3
   },
   "file_extension": ".py",
   "mimetype": "text/x-python",
   "name": "python",
   "nbconvert_exporter": "python",
   "pygments_lexer": "ipython3",
   "version": "3.6.4"
  }
 },
 "nbformat": 4,
 "nbformat_minor": 2
}
