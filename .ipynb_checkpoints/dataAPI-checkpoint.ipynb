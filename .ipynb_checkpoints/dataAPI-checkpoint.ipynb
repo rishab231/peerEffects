{
 "cells": [
  {
   "cell_type": "markdown",
   "metadata": {},
   "source": [
    "## Data collection toolkit for monitoring \"peer effects\""
   ]
  },
  {
   "cell_type": "markdown",
   "metadata": {},
   "source": [
    "This cell sets up the notebook to import numpy, datascience, seaborn, pandas, matplotlib etc."
   ]
  },
  {
   "cell_type": "code",
   "execution_count": 1,
   "metadata": {},
   "outputs": [],
   "source": [
    "# Run this cell to set up the notebook.\n",
    "\n",
    "# These lines import the Numpy, Datascience, pandas modules.\n",
    "import numpy as np\n",
    "import pandas as pd\n",
    "import seaborn as sns\n",
    "from datascience import *\n",
    "import datetime as dt\n",
    "import random\n",
    "import matplotlib\n",
    "import matplotlib.pyplot as plt\n",
    "\n",
    "# Importing plotting libraries and styles\n",
    "%matplotlib inline\n",
    "plt.style.use('fivethirtyeight')\n",
    "\n",
    "# For Pandas to ignore FutureWarning displays\n",
    "import warnings\n",
    "warnings.simplefilter('ignore', FutureWarning)"
   ]
  },
  {
   "cell_type": "markdown",
   "metadata": {},
   "source": [
    "Defining the class `Person`"
   ]
  },
  {
   "cell_type": "code",
   "execution_count": 2,
   "metadata": {},
   "outputs": [],
   "source": [
    "class Person:\n",
    "    def __init__(self, index, startTime):\n",
    "        self.index = index\n",
    "        self.startTime = startTime\n",
    "        self.breakStart = []\n",
    "        self.breakEnd = []\n",
    "        self.endTime = None\n",
    "    \n",
    "    def addBreak(self, time):\n",
    "        self.breakStart.append(time)\n",
    "        return \"Break started for person \" + str(self.index) + \" at \" + str(time)\n",
    "    \n",
    "    def endBreak(self, time):\n",
    "        if (len(self.breakStart)-1)!=len(self.breakEnd):\n",
    "            return \"Please start a break to stop it.\"\n",
    "        else:\n",
    "            self.breakEnd.append(time)\n",
    "            return \"Break ended for person \" + str(self.index) + \" at \" + str(time)\n",
    "        \n",
    "    def endSession(self, time):\n",
    "        self.endTime = time\n",
    "        return \"Person \" + str(self.index) + \"left at \" + str(time)\n",
    "        \n",
    "    def numBreaks(self):\n",
    "        return len(self.breakEnd)"
   ]
  },
  {
   "cell_type": "markdown",
   "metadata": {},
   "source": [
    "Defining the class `Table`"
   ]
  },
  {
   "cell_type": "code",
   "execution_count": 3,
   "metadata": {},
   "outputs": [],
   "source": [
    "class Table:\n",
    "    listTables = []\n",
    "    \n",
    "    def __init__(self, name, libraryName = '', people = 0):\n",
    "        self.name = name\n",
    "        self.startTime = dt.datetime.now()\n",
    "        self.library = libraryName\n",
    "        self.persons = []\n",
    "        for i in range(1, people+1):\n",
    "            self.addPerson()\n",
    "        Table.listTables.append(self)\n",
    "        print(\"Table with name \" + str(name) + \" and \" + str(people) + \" people\" + \" created!\")\n",
    "        print(\"Time: \" + str(self.startTime))\n",
    "        \n",
    "    def addPerson(self):\n",
    "        number = len(self.persons)+1\n",
    "        self.persons.append(Person(number, dt.datetime.now()))\n",
    "        return \"Person number \" + str(number) + \" added.\"\n",
    "    \n",
    "    def addBreak(self, name):\n",
    "        if name > len(self.persons):\n",
    "            return \"Person \" + str(name) + \" not in list of people.\"\n",
    "        person = self.persons[name-1]\n",
    "        time = dt.datetime.now()\n",
    "        return person.addBreak(time)\n",
    "        \n",
    "    def endBreak(self, name):\n",
    "        if name > len(self.persons):\n",
    "            return \"Person \" + str(name) + \" not in list of people.\"\n",
    "        time = dt.datetime.now()\n",
    "        person = self.persons[name-1]\n",
    "        return person.endBreak(time)\n",
    "        #return \"Break ended for person \" + str(name) + \" at \" + str(time)\n",
    "        \n",
    "    def removePerson(self, name):\n",
    "        \"Todo: Implementation pending\"\n",
    "        return\n",
    "    \n",
    "    def getNumBreaks(self, name):\n",
    "        person = self.persons[name-1]\n",
    "        return \"Person \" + str(name) + \" has taken \" + str(person.numBreaks()) + \" breaks.\""
   ]
  },
  {
   "cell_type": "markdown",
   "metadata": {},
   "source": [
    "Creating a wrapper class `ListTables`"
   ]
  },
  {
   "cell_type": "markdown",
   "metadata": {},
   "source": [
    "**Features:**\n",
    "* Person departure\n",
    "* Person arrival\n",
    "* Person break begins\n",
    "* Person checking phone"
   ]
  },
  {
   "cell_type": "markdown",
   "metadata": {},
   "source": [
    "### Demo"
   ]
  },
  {
   "cell_type": "code",
   "execution_count": 4,
   "metadata": {},
   "outputs": [
    {
     "name": "stdout",
     "output_type": "stream",
     "text": [
      "Table with name A and 4 people created!\n",
      "Time: 2019-02-18 23:30:25.810681\n"
     ]
    },
    {
     "data": {
      "text/plain": [
       "'Person number 5 added.'"
      ]
     },
     "execution_count": 4,
     "metadata": {},
     "output_type": "execute_result"
    }
   ],
   "source": [
    "# Creates a new table named 1 in Moffit Library\n",
    "A = Table(\"A\", \"Moffit\", 4)\n",
    "\n",
    "# Adds person 5 to table 1\n",
    "A.addPerson()"
   ]
  },
  {
   "cell_type": "code",
   "execution_count": 5,
   "metadata": {},
   "outputs": [
    {
     "data": {
      "text/plain": [
       "'Break started for person 5 at 2019-02-18 23:30:26.460270'"
      ]
     },
     "execution_count": 5,
     "metadata": {},
     "output_type": "execute_result"
    }
   ],
   "source": [
    "# Person 5 on Table A leaves for a break\n",
    "A.addBreak(5)"
   ]
  },
  {
   "cell_type": "code",
   "execution_count": 6,
   "metadata": {},
   "outputs": [
    {
     "name": "stdout",
     "output_type": "stream",
     "text": [
      "Table with name B and 3 people created!\n",
      "Time: 2019-02-18 23:30:27.407470\n",
      "Table with name C and 10 people created!\n",
      "Time: 2019-02-18 23:30:27.407734\n"
     ]
    },
    {
     "data": {
      "text/plain": [
       "'Break started for person 3 at 2019-02-18 23:30:27.407883'"
      ]
     },
     "execution_count": 6,
     "metadata": {},
     "output_type": "execute_result"
    }
   ],
   "source": [
    "B = Table(\"B\", \"Stacks\", 3)\n",
    "C = Table(\"C\", \"Moffit\", 10)\n",
    "\n",
    "# Person 2 and 3 on Table B leave together for a break\n",
    "B.addBreak(2)\n",
    "B.addBreak(3)"
   ]
  },
  {
   "cell_type": "code",
   "execution_count": 7,
   "metadata": {},
   "outputs": [
    {
     "data": {
      "text/plain": [
       "'Break ended for person 3 at 2019-02-18 23:30:28.547209'"
      ]
     },
     "execution_count": 7,
     "metadata": {},
     "output_type": "execute_result"
    }
   ],
   "source": [
    "# Person 5 on Table A comes back\n",
    "A.endBreak(5)\n",
    "\n",
    "# Person 2 and 3 on Table B come back\n",
    "B.endBreak(2)\n",
    "B.endBreak(3)"
   ]
  },
  {
   "cell_type": "code",
   "execution_count": 8,
   "metadata": {},
   "outputs": [
    {
     "data": {
      "text/plain": [
       "'Break ended for person 5 at 2019-02-18 23:30:29.107632'"
      ]
     },
     "execution_count": 8,
     "metadata": {},
     "output_type": "execute_result"
    }
   ],
   "source": [
    "# A5 leaves for break and comes back again\n",
    "A.addBreak(5)\n",
    "A.endBreak(5)"
   ]
  },
  {
   "cell_type": "code",
   "execution_count": 9,
   "metadata": {},
   "outputs": [
    {
     "data": {
      "text/plain": [
       "'Person 5 has taken 2 breaks.'"
      ]
     },
     "execution_count": 9,
     "metadata": {},
     "output_type": "execute_result"
    }
   ],
   "source": [
    "# Getting number of breaks taken by A5\n",
    "A.getNumBreaks(5)"
   ]
  },
  {
   "cell_type": "markdown",
   "metadata": {},
   "source": [
    "Todo:\n",
    "* Ask Max and others for format/appropriate features for an csv, Excel file\n",
    "* Write code to convert single library session into the appropriate csv file\n",
    "\n",
    "Other thoughts/functionalities that should be added?"
   ]
  },
  {
   "cell_type": "markdown",
   "metadata": {},
   "source": [
    "**Format:** Person, Table, Library, Arrival Time, Departure Time, Num Breaks, Break Start Times (list), Break End Times (list), Neighbours, Known"
   ]
  },
  {
   "cell_type": "code",
   "execution_count": 22,
   "metadata": {},
   "outputs": [
    {
     "ename": "NameError",
     "evalue": "name 'table' is not defined",
     "output_type": "error",
     "traceback": [
      "\u001b[0;31m---------------------------------------------------------------------------\u001b[0m",
      "\u001b[0;31mNameError\u001b[0m                                 Traceback (most recent call last)",
      "\u001b[0;32m<ipython-input-22-4f32621cbd08>\u001b[0m in \u001b[0;36m<module>\u001b[0;34m\u001b[0m\n\u001b[1;32m      1\u001b[0m \u001b[0;31m# Convert these list of Tables into a Pandas Dataframe - which can be converted into a CSV\u001b[0m\u001b[0;34m\u001b[0m\u001b[0;34m\u001b[0m\u001b[0m\n\u001b[1;32m      2\u001b[0m \u001b[0mtbList\u001b[0m \u001b[0;34m=\u001b[0m \u001b[0mTable\u001b[0m\u001b[0;34m.\u001b[0m\u001b[0mlistTables\u001b[0m\u001b[0;34m\u001b[0m\u001b[0m\n\u001b[0;32m----> 3\u001b[0;31m \u001b[0mpersonNames\u001b[0m \u001b[0;34m=\u001b[0m \u001b[0;34m[\u001b[0m\u001b[0mperson\u001b[0m \u001b[0;32mfor\u001b[0m \u001b[0mperson\u001b[0m \u001b[0;32min\u001b[0m \u001b[0mtable\u001b[0m\u001b[0;34m.\u001b[0m\u001b[0mpersons\u001b[0m \u001b[0;32mfor\u001b[0m \u001b[0mtable\u001b[0m \u001b[0;32min\u001b[0m \u001b[0mtbList\u001b[0m\u001b[0;34m]\u001b[0m\u001b[0;34m\u001b[0m\u001b[0m\n\u001b[0m\u001b[1;32m      4\u001b[0m df = pd.DataFrame(np.array([[personNames]]),\n\u001b[1;32m      5\u001b[0m     columns=['Person','Table','Library','Arrival','Departure','Num_Breaks','Break_Start','Break_End','Neighbours'])\n",
      "\u001b[0;31mNameError\u001b[0m: name 'table' is not defined"
     ]
    }
   ],
   "source": [
    "# Convert these list of Tables into a Pandas Dataframe - which can be converted into a CSV\n",
    "tbList = Table.listTables\n",
    "personNames = [person for person in table.persons for table in tbList]\n",
    "df = pd.DataFrame(np.array([[personNames]]),\n",
    "    columns=['Person','Table','Library','Arrival','Departure','Num_Breaks','Break_Start','Break_End','Neighbours'])\n",
    "df"
   ]
  },
  {
   "cell_type": "code",
   "execution_count": null,
   "metadata": {},
   "outputs": [],
   "source": []
  }
 ],
 "metadata": {
  "kernelspec": {
   "display_name": "Python 3",
   "language": "python",
   "name": "python3"
  },
  "language_info": {
   "codemirror_mode": {
    "name": "ipython",
    "version": 3
   },
   "file_extension": ".py",
   "mimetype": "text/x-python",
   "name": "python",
   "nbconvert_exporter": "python",
   "pygments_lexer": "ipython3",
   "version": "3.6.4"
  }
 },
 "nbformat": 4,
 "nbformat_minor": 2
}
