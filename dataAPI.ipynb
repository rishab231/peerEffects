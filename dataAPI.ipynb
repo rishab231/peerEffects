{
 "cells": [
  {
   "cell_type": "markdown",
   "metadata": {},
   "source": [
    "## Data collection toolkit for monitoring \"peer effects\""
   ]
  },
  {
   "cell_type": "markdown",
   "metadata": {},
   "source": [
    "This cell sets up the notebook to import numpy, datascience, seaborn, pandas, matplotlib etc."
   ]
  },
  {
   "cell_type": "code",
   "execution_count": 1,
   "metadata": {},
   "outputs": [],
   "source": [
    "# Run this cell to set up the notebook.\n",
    "\n",
    "# These lines import the Numpy, Datascience, pandas modules.\n",
    "import numpy as np\n",
    "import pandas as pd\n",
    "import seaborn as sns\n",
    "from datascience import *\n",
    "import datetime as dt\n",
    "import matplotlib\n",
    "import matplotlib.pyplot as plt\n",
    "\n",
    "# Importing plotting libraries and styles\n",
    "%matplotlib inline\n",
    "plt.style.use('fivethirtyeight')\n",
    "\n",
    "# For Pandas to ignore FutureWarning displays\n",
    "import warnings\n",
    "warnings.simplefilter('ignore', FutureWarning)"
   ]
  },
  {
   "cell_type": "markdown",
   "metadata": {},
   "source": [
    "Defining the class `Person`"
   ]
  },
  {
   "cell_type": "code",
   "execution_count": 2,
   "metadata": {},
   "outputs": [],
   "source": [
    "class Person:\n",
    "    def __init__(self, index, startTime):\n",
    "        self.index = index\n",
    "        self.startTime = startTime\n",
    "        self.breakStart = []\n",
    "        self.breakEnd = []\n",
    "        self.endTime = None\n",
    "    \n",
    "    def addBreak(self, time):\n",
    "        self.breakStart.append(time)\n",
    "        return \"Break started for person \" + str(self.index) + \" at \" + str(time)\n",
    "    \n",
    "    def endBreak(self, time):\n",
    "        if (len(self.breakStart)-1)!=len(self.breakEnd):\n",
    "            return \"Please start a break to stop it.\"\n",
    "        else:\n",
    "            self.breakEnd.append(time)\n",
    "            return \"Break ended for person \" + str(self.index) + \" at \" + str(time)\n",
    "        \n",
    "    def endSession(self, time):\n",
    "        self.endTime = time\n",
    "        return \"Person \" + str(self.index) + \" left at \" + str(time)\n",
    "        \n",
    "    def numBreaks(self):\n",
    "        return len(self.breakEnd)"
   ]
  },
  {
   "cell_type": "markdown",
   "metadata": {},
   "source": [
    "Defining the class `Table`"
   ]
  },
  {
   "cell_type": "code",
   "execution_count": 3,
   "metadata": {},
   "outputs": [],
   "source": [
    "class Table:\n",
    "    listTables = []\n",
    "    \n",
    "    def __init__(self, name, libraryName = '', people = 0):\n",
    "        self.name = name\n",
    "        self.startTime = dt.datetime.now()\n",
    "        self.library = libraryName\n",
    "        self.persons = []\n",
    "        for i in range(1, people+1):\n",
    "            self.addPerson()\n",
    "        Table.listTables.append(self)\n",
    "        print(\"Table with name \" + str(name) + \" and \" + str(people) + \" people\" + \" created!\")\n",
    "        print(\"Time: \" + str(self.startTime))\n",
    "        \n",
    "    def addPerson(self):\n",
    "        number = len(self.persons)+1\n",
    "        self.persons.append(Person(number, dt.datetime.now()))\n",
    "        print(\"Person number \" + str(number) + \" added.\")\n",
    "        return\n",
    "    \n",
    "    def addBreak(self, name):\n",
    "        if name > len(self.persons):\n",
    "            return \"Person \" + str(name) + \" not in list of people.\"\n",
    "        person = self.persons[name-1]\n",
    "        time = dt.datetime.now()\n",
    "        print(person.addBreak(time))\n",
    "        \n",
    "    def endBreak(self, name):\n",
    "        if name > len(self.persons):\n",
    "            return \"Person \" + str(name) + \" not in list of people.\"\n",
    "        time = dt.datetime.now()\n",
    "        person = self.persons[name-1]\n",
    "        print(person.endBreak(time))\n",
    "        \n",
    "    def removePerson(self, name):\n",
    "        exists = False\n",
    "        for person in self.persons:\n",
    "            if (person.index == name) and (person.endTime == None):\n",
    "                exists = True\n",
    "                break\n",
    "        if (not exists):\n",
    "            print(\"This person doesn't exist and so, can't be removed\")\n",
    "            return\n",
    "        else:\n",
    "            time = dt.datetime.now()\n",
    "            print(person.endSession(time))\n",
    "            return\n",
    "    \n",
    "    def getNumBreaks(self, name):\n",
    "        person = self.persons[name-1]\n",
    "        print(\"Person \" + str(name) + \" has taken \" + str(person.numBreaks()) + \" breaks.\")\n",
    "        return"
   ]
  },
  {
   "cell_type": "markdown",
   "metadata": {},
   "source": [
    "Creating the `convertToRow` function for appending to Dataframe"
   ]
  },
  {
   "cell_type": "code",
   "execution_count": 88,
   "metadata": {},
   "outputs": [],
   "source": [
    "def convertToRow(person, table):\n",
    "    row = [person.index, table.name, table.library, person.startTime, \\\n",
    "           person.endTime, person.numBreaks(), person.breakStart, person.breakEnd]\n",
    "    neighbors = [person_p.index for person_p in table.persons if person_p.index!=person.index]\n",
    "    row = row + [neighbors]\n",
    "    return row"
   ]
  },
  {
   "cell_type": "markdown",
   "metadata": {},
   "source": [
    "## Demo\n",
    "\n",
    "The code below creates a new table named A in Moffit Library with 4 people\n",
    "\n",
    "`A = Table(\"A\", \"Moffit\", 4)`\n",
    "\n",
    "Adds person 5 to table A\n",
    "\n",
    "`A.addPerson()`\n",
    "\n",
    "Person 5 on Table A leaves for a break\n",
    "\n",
    "`A.addBreak(5)`\n",
    "\n",
    "Similarly, creating Tables B and C with 3 and 1 person each\n",
    "\n",
    "`B = Table(\"B\", \"Stacks\", 3)`\n",
    "\n",
    "`C = Table(\"C\", \"Moffit\", 1)`\n",
    "\n",
    "Person 2 and 3 on Table B leave together for a break\n",
    "\n",
    "`B.addBreak(2)`\n",
    "\n",
    "`B.addBreak(3)`\n",
    "\n",
    "Person 5 on Table A comes back\n",
    "\n",
    "`A.endBreak(5)`\n",
    "\n",
    "Person 5 on Table A departs for the day\n",
    "\n",
    "`A.removePerson(5)`"
   ]
  },
  {
   "cell_type": "markdown",
   "metadata": {},
   "source": [
    "## Start writing your code below to add Tables"
   ]
  },
  {
   "cell_type": "code",
   "execution_count": 4,
   "metadata": {},
   "outputs": [],
   "source": [
    "# Start writing your code here!\n"
   ]
  },
  {
   "cell_type": "markdown",
   "metadata": {},
   "source": [
    "### Important (Read me)\n",
    "1. Add the names of the tables that you want to add to the **database file** to the **list**\n",
    "2. Run the cell below to update the libData.csv file!"
   ]
  },
  {
   "cell_type": "markdown",
   "metadata": {},
   "source": [
    "**Format:** Person, Table, Library, Arrival Time, Departure Time, Num Breaks, Break Start Times (list), Break End Times (list), Neighbours"
   ]
  },
  {
   "cell_type": "code",
   "execution_count": 90,
   "metadata": {},
   "outputs": [],
   "source": [
    "# ADD the names of the required tables to this list,\n",
    "# For example, required_tables = [A, B]\n",
    "\n",
    "required_tables = []"
   ]
  },
  {
   "cell_type": "code",
   "execution_count": 94,
   "metadata": {},
   "outputs": [],
   "source": [
    "# RUN THIS CELL AT THE END, then close this tab!\n",
    "\n",
    "# This automatically adds data that we've input into the libData.csv dataframe\n",
    "df = pd.read_csv('libData.csv')\n",
    "for table in required_tables:\n",
    "    for person in table.persons:\n",
    "        df = df.append(pd.DataFrame([convertToRow(person, table)],columns=df.columns))\n",
    "df.to_csv('libData.csv', index=False)"
   ]
  }
 ],
 "metadata": {
  "kernelspec": {
   "display_name": "Python 3",
   "language": "python",
   "name": "python3"
  },
  "language_info": {
   "codemirror_mode": {
    "name": "ipython",
    "version": 3
   },
   "file_extension": ".py",
   "mimetype": "text/x-python",
   "name": "python",
   "nbconvert_exporter": "python",
   "pygments_lexer": "ipython3",
   "version": "3.6.4"
  }
 },
 "nbformat": 4,
 "nbformat_minor": 2
}
