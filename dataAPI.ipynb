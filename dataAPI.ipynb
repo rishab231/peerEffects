{
 "cells": [
  {
   "cell_type": "markdown",
   "metadata": {},
   "source": [
    "## Data collection toolkit for monitoring \"peer effects\""
   ]
  },
  {
   "cell_type": "markdown",
   "metadata": {},
   "source": [
    "This cell sets up the notebook to import numpy, datascience, seaborn, pandas, matplotlib etc."
   ]
  },
  {
   "cell_type": "code",
   "execution_count": 196,
   "metadata": {},
   "outputs": [],
   "source": [
    "# Run this cell to set up the notebook.\n",
    "\n",
    "# These lines import the Numpy, Datascience, pandas modules.\n",
    "import numpy as np\n",
    "import pandas as pd\n",
    "import seaborn as sns\n",
    "import datetime as dt\n",
    "import matplotlib\n",
    "import matplotlib.pyplot as plt\n",
    "\n",
    "# Importing plotting libraries and styles\n",
    "%matplotlib inline\n",
    "plt.style.use('fivethirtyeight')\n",
    "\n",
    "# For Pandas to ignore FutureWarning displays\n",
    "import warnings\n",
    "warnings.simplefilter('ignore', FutureWarning)"
   ]
  },
  {
   "cell_type": "markdown",
   "metadata": {},
   "source": [
    "Defining the class `Person`"
   ]
  },
  {
   "cell_type": "code",
   "execution_count": 197,
   "metadata": {},
   "outputs": [],
   "source": [
    "class Person:\n",
    "    def __init__(self, index, startTime, neighbors, fromStart):\n",
    "        self.index = index\n",
    "        self.startTime = startTime\n",
    "        self.breakStart = []\n",
    "        self.breakEnd = []\n",
    "        self.fromStart = int(fromStart)\n",
    "        self.endTime = None\n",
    "        self.tillEnd = 0\n",
    "        self.neighbors = neighbors\n",
    "    \n",
    "    def addBreak(self, time):\n",
    "        self.breakStart.append(time)\n",
    "        return \"Break started for person \" + str(self.index) + \" at \" + str(time)\n",
    "    \n",
    "    def endBreak(self, time):\n",
    "        if (len(self.breakStart)-1)!=len(self.breakEnd):\n",
    "            return \"Please start a break to stop it.\"\n",
    "        else:\n",
    "            self.breakEnd.append(time)\n",
    "            return \"Break ended for person \" + str(self.index) + \" at \" + str(time)\n",
    "        \n",
    "    def endSession(self, time):\n",
    "        self.endTime = time\n",
    "        return \"Person \" + str(self.index) + \" left at \" + str(time)\n",
    "        \n",
    "    def numBreaks(self):\n",
    "        return len(self.breakEnd)\n",
    "    \n",
    "    def getNeighbors(self):\n",
    "        return self.neighbors\n",
    "    \n",
    "    def addNeighbor(self, number):\n",
    "        self.neighbors.append(number)\n",
    "        \n",
    "    def setTillEnd(self, time):\n",
    "        self.endTime = time\n",
    "        self.tillEnd = 1"
   ]
  },
  {
   "cell_type": "markdown",
   "metadata": {},
   "source": [
    "Defining the class `Table`"
   ]
  },
  {
   "cell_type": "markdown",
   "metadata": {},
   "source": [
    "Todo:\n",
    "* Add currentPersons list (or dict)\n",
    "* Change self.persons to self.allPersons\n",
    "* Add addNeighbor and removeNeighbor functionality\n",
    "* Add this functionality to each of the Table functions and endSession functions etc.\n",
    "* Change the export to the dataframe (especially the Neighbor part)\n",
    "\n",
    "\n",
    "SOLVE UNIQUENESS PROBLEM with dictionary (`addBreak`)"
   ]
  },
  {
   "cell_type": "code",
   "execution_count": 198,
   "metadata": {},
   "outputs": [],
   "source": [
    "class Table:\n",
    "    # Todo think about this\n",
    "    listTables = dict()\n",
    "    \n",
    "    def __init__(self, name, libraryName = ''):\n",
    "        if (not isinstance(name, str)):\n",
    "            print(\"ERROR: Table name should be a string\")\n",
    "            return\n",
    "        if (not isinstance(libraryName, str)):\n",
    "            print(\"ERROR: Table name should be a string\")\n",
    "            return\n",
    "        self.name = name\n",
    "        self.startTime = dt.datetime.now()\n",
    "        self.library = libraryName\n",
    "        \n",
    "        # Dictionary of current active persons on Table (Number -> Person Object)\n",
    "        self.currentPersons = dict()\n",
    "        \n",
    "        # List of Person Objects which have ever sat at Table\n",
    "        self.allPersons = []\n",
    "        \n",
    "        Table.listTables[name] = self\n",
    "        print(\"Table with name \" + str(name) + \" created at time: \" + str(self.startTime))\n",
    "        \n",
    "    def addPerson(self, number, fromTheStart = False):\n",
    "        if (not isinstance(number, int)):\n",
    "            print(\"ERROR: Please give a number as person index\")\n",
    "            return\n",
    "        if (not isinstance(fromTheStart, bool)):\n",
    "            print(\"ERROR: Third argument should be True/False (person sitting from the start or not)\")\n",
    "            return\n",
    "        if number in self.currentPersons:\n",
    "            print(\"ERROR: Person already exists on Table: \" + self.name)\n",
    "            return\n",
    "        neighbors = [key for key in self.currentPersons]\n",
    "        \n",
    "        # Adding current number as a neighbor to already existing neighbors\n",
    "        for aPerson in self.currentPersons:\n",
    "            self.currentPersons[aPerson].addNeighbor(number)\n",
    "            \n",
    "        # Creating Person object for this person\n",
    "        newPerson = Person(number, dt.datetime.now(), neighbors, int(fromTheStart))\n",
    "        self.currentPersons[number] = newPerson\n",
    "        self.allPersons.append(newPerson)\n",
    "        \n",
    "        print(\"Person number \" + str(number) + \" added to Table \" + str(self.name))\n",
    "        return\n",
    "    \n",
    "    def addBreak(self, number):\n",
    "        if (not isinstance(number, int)):\n",
    "            print(\"ERROR: Please give a number as person index\")\n",
    "            return\n",
    "        if number not in self.currentPersons:\n",
    "            print(\"ERROR: Person \" + str(number) + \" not in list of active people on Table \" + self.getName())\n",
    "            return\n",
    "        person = self.currentPersons[number]\n",
    "        time = dt.datetime.now()\n",
    "        print(person.addBreak(time))\n",
    "        \n",
    "    def getName(self):\n",
    "        return self.name\n",
    "        \n",
    "    def endBreak(self, number):\n",
    "        if (not isinstance(number, int)):\n",
    "            print(\"ERROR: Please give a number as person index\")\n",
    "            return\n",
    "        if number not in self.currentPersons:\n",
    "            print(\"ERROR: Person \" + str(number) + \" not in list of people.\")\n",
    "            return\n",
    "        time = dt.datetime.now()\n",
    "        person = self.currentPersons[number]\n",
    "        print(person.endBreak(time))\n",
    "        \n",
    "    def removePerson(self, number):\n",
    "        if (not isinstance(number, int)):\n",
    "            print(\"ERROR: Please give a number as person index\")\n",
    "            return\n",
    "        if number not in self.currentPersons:\n",
    "            print(\"This person doesn't exist and so, can't be removed\")\n",
    "            return\n",
    "        else:\n",
    "            person = self.currentPersons.pop(number)\n",
    "            time = dt.datetime.now()\n",
    "            print(person.endSession(time))\n",
    "            return\n",
    "    \n",
    "    def getNumBreaks(self, number):\n",
    "        if (not isinstance(number, int)):\n",
    "            print(\"ERROR: Please give a number as person index\")\n",
    "            return\n",
    "        if number not in self.currentPersons:\n",
    "            print(\"ERROR: Person not active on Table\")\n",
    "            return\n",
    "        person = self.currentPersons[number]\n",
    "        print(\"Person \" + str(number) + \" has taken \" + str(person.numBreaks()) + \" breaks.\")\n",
    "        return\n",
    "    \n",
    "    def getCurrentPersons(self):\n",
    "        return self.currentPersons"
   ]
  },
  {
   "cell_type": "markdown",
   "metadata": {},
   "source": [
    "Creating the `convertToRow` function for appending to Dataframe"
   ]
  },
  {
   "cell_type": "code",
   "execution_count": 199,
   "metadata": {},
   "outputs": [],
   "source": [
    "def convertToRow(person, table):\n",
    "    row = [person.index, table.name, table.library, person.startTime, \\\n",
    "           person.endTime, person.numBreaks(), person.breakStart, person.breakEnd, person.fromStart, person.tillEnd, person.getNeighbors()]\n",
    "    return row"
   ]
  },
  {
   "cell_type": "markdown",
   "metadata": {},
   "source": [
    "The function `showTables` shows all the active Tables and active Seats on that table"
   ]
  },
  {
   "cell_type": "code",
   "execution_count": 200,
   "metadata": {},
   "outputs": [],
   "source": [
    "def showTables():\n",
    "    for table in Table.listTables.values():\n",
    "        seatsTaken = table.getCurrentPersons().keys()\n",
    "        print(\"Table Name: \" + table.getName() + \", \" + \"Current seats taken: \" + \" \".join(str(e) for e in seatsTaken))"
   ]
  },
  {
   "cell_type": "markdown",
   "metadata": {},
   "source": [
    "Run the function `quitSession` when you (the **Data Collector** want to leave)"
   ]
  },
  {
   "cell_type": "code",
   "execution_count": 201,
   "metadata": {},
   "outputs": [],
   "source": [
    "def quitSession():\n",
    "    time = dt.datetime.now()\n",
    "    for table in Table.listTables.values():\n",
    "        for person in table.currentPersons.values():\n",
    "            person.setTillEnd(time)\n",
    "    print(\"You left at\", time)"
   ]
  },
  {
   "cell_type": "markdown",
   "metadata": {},
   "source": [
    "## Extended Demo"
   ]
  },
  {
   "cell_type": "code",
   "execution_count": 202,
   "metadata": {},
   "outputs": [
    {
     "name": "stdout",
     "output_type": "stream",
     "text": [
      "Table with name A created at time: 2019-03-08 21:58:47.432120\n"
     ]
    }
   ],
   "source": [
    "# The code below creates a new table named A in Moffit Library\n",
    "A = Table(\"A\", \"Moffit\")"
   ]
  },
  {
   "cell_type": "code",
   "execution_count": 203,
   "metadata": {},
   "outputs": [
    {
     "name": "stdout",
     "output_type": "stream",
     "text": [
      "Person number 2 added to Table A\n",
      "Person number 5 added to Table A\n",
      "ERROR: Person already exists on Table: A\n"
     ]
    }
   ],
   "source": [
    "# Adds person at Seats 2,5 to Table A\n",
    "\n",
    "A.addPerson(2)\n",
    "\n",
    "A.addPerson(5)\n",
    "\n",
    "# Trying to add Person 2 again\n",
    "A.addPerson(2)"
   ]
  },
  {
   "cell_type": "code",
   "execution_count": 204,
   "metadata": {},
   "outputs": [
    {
     "name": "stdout",
     "output_type": "stream",
     "text": [
      "Break started for person 5 at 2019-03-08 21:58:50.874176\n"
     ]
    }
   ],
   "source": [
    "# Person 5 on Table A leaves for a break\n",
    "\n",
    "A.addBreak(5)"
   ]
  },
  {
   "cell_type": "code",
   "execution_count": 205,
   "metadata": {},
   "outputs": [
    {
     "name": "stdout",
     "output_type": "stream",
     "text": [
      "Table with name B created at time: 2019-03-08 21:58:52.680137\n"
     ]
    }
   ],
   "source": [
    "# Similarly, creating Table B at Main Stacks\n",
    "\n",
    "B = Table(\"B\", \"Stacks\")"
   ]
  },
  {
   "cell_type": "markdown",
   "metadata": {},
   "source": [
    "Adding person at Seat 1, Table B, but he was already there from the start. **Note:** *Adding True as the second argument implies that the person was there before you came in."
   ]
  },
  {
   "cell_type": "code",
   "execution_count": 206,
   "metadata": {
    "scrolled": true
   },
   "outputs": [
    {
     "name": "stdout",
     "output_type": "stream",
     "text": [
      "Person number 1 added to Table B\n"
     ]
    }
   ],
   "source": [
    "#Adding person at Seat 1, Table B, but he was already there from the start.\n",
    "\n",
    "B.addPerson(1, True)"
   ]
  },
  {
   "cell_type": "code",
   "execution_count": 207,
   "metadata": {},
   "outputs": [
    {
     "name": "stdout",
     "output_type": "stream",
     "text": [
      "Person number 3 added to Table B\n"
     ]
    }
   ],
   "source": [
    "# Another person comes in and sits down at Seat 3, Table B.\n",
    "\n",
    "B.addPerson(3)"
   ]
  },
  {
   "cell_type": "code",
   "execution_count": 208,
   "metadata": {},
   "outputs": [
    {
     "name": "stdout",
     "output_type": "stream",
     "text": [
      "Break started for person 1 at 2019-03-08 21:58:55.383331\n",
      "Break started for person 3 at 2019-03-08 21:58:55.383422\n"
     ]
    }
   ],
   "source": [
    "# Person 1 and 3 on Table B leave together for a break\n",
    "\n",
    "B.addBreak(1)\n",
    "\n",
    "B.addBreak(3)"
   ]
  },
  {
   "cell_type": "code",
   "execution_count": 209,
   "metadata": {},
   "outputs": [
    {
     "name": "stdout",
     "output_type": "stream",
     "text": [
      "Please start a break to stop it.\n",
      "Break ended for person 5 at 2019-03-08 21:58:55.595837\n"
     ]
    }
   ],
   "source": [
    "# 2 never left for a break\n",
    "A.endBreak(2)\n",
    "\n",
    "# But 5 did, so we can end his break.\n",
    "A.endBreak(5)"
   ]
  },
  {
   "cell_type": "code",
   "execution_count": 210,
   "metadata": {},
   "outputs": [
    {
     "name": "stdout",
     "output_type": "stream",
     "text": [
      "Person 5 left at 2019-03-08 21:58:56.154816\n"
     ]
    }
   ],
   "source": [
    "# Person 5 on Table A departs for the day\n",
    "\n",
    "A.removePerson(5)"
   ]
  },
  {
   "cell_type": "code",
   "execution_count": 211,
   "metadata": {},
   "outputs": [
    {
     "name": "stdout",
     "output_type": "stream",
     "text": [
      "This person doesn't exist and so, can't be removed\n"
     ]
    }
   ],
   "source": [
    "# Trying to remove Person 5 again.\n",
    "A.removePerson(5)"
   ]
  },
  {
   "cell_type": "code",
   "execution_count": 212,
   "metadata": {},
   "outputs": [
    {
     "name": "stdout",
     "output_type": "stream",
     "text": [
      "Table Name: A, Current seats taken: 2\n",
      "Table Name: B, Current seats taken: 1 3\n"
     ]
    }
   ],
   "source": [
    "# Showing all the Seats that are currently active\n",
    "\n",
    "showTables()"
   ]
  },
  {
   "cell_type": "code",
   "execution_count": 213,
   "metadata": {},
   "outputs": [
    {
     "name": "stdout",
     "output_type": "stream",
     "text": [
      "Person 1 left at 2019-03-08 21:58:59.128115\n"
     ]
    }
   ],
   "source": [
    "# Removing Person 1 from Table B\n",
    "\n",
    "B.removePerson(1)"
   ]
  },
  {
   "cell_type": "code",
   "execution_count": 214,
   "metadata": {},
   "outputs": [
    {
     "name": "stdout",
     "output_type": "stream",
     "text": [
      "Table Name: A, Current seats taken: 2\n",
      "Table Name: B, Current seats taken: 3\n"
     ]
    }
   ],
   "source": [
    "# Again, showing active seats\n",
    "\n",
    "showTables()"
   ]
  },
  {
   "cell_type": "code",
   "execution_count": 215,
   "metadata": {},
   "outputs": [
    {
     "name": "stdout",
     "output_type": "stream",
     "text": [
      "You left at 2019-03-08 21:59:00.895141\n"
     ]
    }
   ],
   "source": [
    "# Suppose I want to leave the library now, I simply run\n",
    "\n",
    "quitSession()"
   ]
  },
  {
   "cell_type": "markdown",
   "metadata": {},
   "source": [
    "## Start writing your code below to add Tables"
   ]
  },
  {
   "cell_type": "code",
   "execution_count": null,
   "metadata": {},
   "outputs": [],
   "source": []
  },
  {
   "cell_type": "markdown",
   "metadata": {},
   "source": [
    "### Important (Read me)\n",
    "1. Run the cell below to update the libData.csv file!"
   ]
  },
  {
   "cell_type": "markdown",
   "metadata": {},
   "source": [
    "**Format:** Person, Table, Library, Arrival Time, Departure Time, Num Breaks, Break Start Times (list), Break End Times (list), fromStart, tillEnd, Neighbours"
   ]
  },
  {
   "cell_type": "code",
   "execution_count": 216,
   "metadata": {},
   "outputs": [],
   "source": [
    "# RUN THIS CELL AT THE END, then close this tab!\n",
    "\n",
    "# This automatically adds data that we've input into the libData.csv dataframe\n",
    "df = pd.read_csv('libData.csv')\n",
    "for table in Table.listTables.values():\n",
    "    for person in table.allPersons:\n",
    "        df = df.append(pd.DataFrame([convertToRow(person, table)],columns=df.columns))\n",
    "df.to_csv('libData.csv', index=False)"
   ]
  },
  {
   "cell_type": "code",
   "execution_count": null,
   "metadata": {},
   "outputs": [],
   "source": []
  }
 ],
 "metadata": {
  "kernelspec": {
   "display_name": "Python 3",
   "language": "python",
   "name": "python3"
  },
  "language_info": {
   "codemirror_mode": {
    "name": "ipython",
    "version": 3
   },
   "file_extension": ".py",
   "mimetype": "text/x-python",
   "name": "python",
   "nbconvert_exporter": "python",
   "pygments_lexer": "ipython3",
   "version": "3.6.4"
  }
 },
 "nbformat": 4,
 "nbformat_minor": 2
}
